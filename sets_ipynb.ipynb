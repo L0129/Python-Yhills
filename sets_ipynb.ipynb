{
 "cells": [
  {
   "cell_type": "markdown",
   "id": "91c3bd6d",
   "metadata": {},
   "source": [
    "### sets in python"
   ]
  },
  {
   "cell_type": "code",
   "execution_count": 1,
   "id": "c1241c9d",
   "metadata": {},
   "outputs": [
    {
     "data": {
      "text/plain": [
       "{-3, -4, 0.5, 1, 1.3, 13, 2, 21.7, 3, 4, 5, 9.6, 'Ds', 'Hello'}"
      ]
     },
     "execution_count": 1,
     "metadata": {},
     "output_type": "execute_result"
    }
   ],
   "source": [
    "set1={1,2,3,4,5,1,13,1.3,9.6,\"Hello\",\"Ds\",0.5,-3,-4,-4,21.7}\n",
    "set1"
   ]
  },
  {
   "cell_type": "markdown",
   "id": "a264fa3c",
   "metadata": {},
   "source": [
    "### set arrange in order all the elements"
   ]
  },
  {
   "cell_type": "code",
   "execution_count": 2,
   "id": "ed0d6fb1",
   "metadata": {},
   "outputs": [
    {
     "ename": "TypeError",
     "evalue": "'set' object is not subscriptable",
     "output_type": "error",
     "traceback": [
      "\u001b[1;31m------------------------------------------------------------------\u001b[0m",
      "\u001b[1;31mTypeError\u001b[0m                        Traceback (most recent call last)",
      "Cell \u001b[1;32mIn[2], line 1\u001b[0m\n\u001b[1;32m----> 1\u001b[0m set1[\u001b[38;5;241m4\u001b[39m]\n",
      "\u001b[1;31mTypeError\u001b[0m: 'set' object is not subscriptable"
     ]
    }
   ],
   "source": [
    "set1[4]"
   ]
  },
  {
   "cell_type": "markdown",
   "id": "9a427e55",
   "metadata": {},
   "source": [
    "### set does not use indexing"
   ]
  },
  {
   "cell_type": "code",
   "execution_count": 3,
   "id": "8bcebbe2",
   "metadata": {},
   "outputs": [],
   "source": [
    "set1.add(299)"
   ]
  },
  {
   "cell_type": "code",
   "execution_count": 4,
   "id": "93f66965",
   "metadata": {},
   "outputs": [
    {
     "data": {
      "text/plain": [
       "{-3, -4, 0.5, 1, 1.3, 13, 2, 21.7, 299, 3, 4, 5, 9.6, 'Ds', 'Hello'}"
      ]
     },
     "execution_count": 4,
     "metadata": {},
     "output_type": "execute_result"
    }
   ],
   "source": [
    "set1"
   ]
  },
  {
   "cell_type": "markdown",
   "id": "0ec6c864",
   "metadata": {},
   "source": [
    "### Set is mutable through add and remove function"
   ]
  },
  {
   "cell_type": "code",
   "execution_count": 5,
   "id": "18bfbbd1",
   "metadata": {},
   "outputs": [
    {
     "data": {
      "text/plain": [
       "{-3, -4, 0.5, 1, 1.3, 13, 2, 21.7, 299, 3, 4, 5, 9.6, 'Ds'}"
      ]
     },
     "execution_count": 5,
     "metadata": {},
     "output_type": "execute_result"
    }
   ],
   "source": [
    "set1.remove('Hello')\n",
    "set1"
   ]
  },
  {
   "cell_type": "markdown",
   "id": "2a93f593",
   "metadata": {},
   "source": [
    "### set does not allowed duplicate values\n",
    "### we cannot retrive elements in set through indexing\n",
    "### set is mutable only through add and remove methods"
   ]
  },
  {
   "cell_type": "code",
   "execution_count": null,
   "id": "f0bc2fc0",
   "metadata": {},
   "outputs": [],
   "source": []
  }
 ],
 "metadata": {
  "kernelspec": {
   "display_name": "Python 3 (ipykernel)",
   "language": "python",
   "name": "python3"
  },
  "language_info": {
   "codemirror_mode": {
    "name": "ipython",
    "version": 3
   },
   "file_extension": ".py",
   "mimetype": "text/x-python",
   "name": "python",
   "nbconvert_exporter": "python",
   "pygments_lexer": "ipython3",
   "version": "3.11.5"
  }
 },
 "nbformat": 4,
 "nbformat_minor": 5
}
