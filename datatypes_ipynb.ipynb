{
 "cells": [
  {
   "cell_type": "markdown",
   "id": "34b753f5",
   "metadata": {},
   "source": [
    "### data types"
   ]
  },
  {
   "cell_type": "code",
   "execution_count": 1,
   "id": "555ffe06",
   "metadata": {},
   "outputs": [
    {
     "data": {
      "text/plain": [
       "str"
      ]
     },
     "execution_count": 1,
     "metadata": {},
     "output_type": "execute_result"
    }
   ],
   "source": [
    "name=\"Laxmi\"\n",
    "type(name)"
   ]
  },
  {
   "cell_type": "code",
   "execution_count": 2,
   "id": "860c11c5",
   "metadata": {},
   "outputs": [
    {
     "data": {
      "text/plain": [
       "int"
      ]
     },
     "execution_count": 2,
     "metadata": {},
     "output_type": "execute_result"
    }
   ],
   "source": [
    "x=100\n",
    "type(x)\n"
   ]
  },
  {
   "cell_type": "code",
   "execution_count": 3,
   "id": "ab8170aa",
   "metadata": {},
   "outputs": [
    {
     "data": {
      "text/plain": [
       "float"
      ]
     },
     "execution_count": 3,
     "metadata": {},
     "output_type": "execute_result"
    }
   ],
   "source": [
    "x=10.8\n",
    "type(x)"
   ]
  },
  {
   "cell_type": "code",
   "execution_count": 4,
   "id": "a517ef94",
   "metadata": {},
   "outputs": [
    {
     "data": {
      "text/plain": [
       "bool"
      ]
     },
     "execution_count": 4,
     "metadata": {},
     "output_type": "execute_result"
    }
   ],
   "source": [
    "x=True\n",
    "type(x)"
   ]
  },
  {
   "cell_type": "markdown",
   "id": "4c49ba44",
   "metadata": {},
   "source": [
    "### Variables"
   ]
  },
  {
   "cell_type": "code",
   "execution_count": 5,
   "id": "aa3e6063",
   "metadata": {},
   "outputs": [
    {
     "data": {
      "text/plain": [
       "'Laxmi'"
      ]
     },
     "execution_count": 5,
     "metadata": {},
     "output_type": "execute_result"
    }
   ],
   "source": [
    "name=\"Laxmi\"\n",
    "name"
   ]
  },
  {
   "cell_type": "code",
   "execution_count": 6,
   "id": "66405af5",
   "metadata": {},
   "outputs": [
    {
     "ename": "SyntaxError",
     "evalue": "invalid syntax (2879183803.py, line 1)",
     "output_type": "error",
     "traceback": [
      "\u001b[1;36m  Cell \u001b[1;32mIn[6], line 1\u001b[1;36m\u001b[0m\n\u001b[1;33m    name lists=\"laxmi\",\"shukla\"\u001b[0m\n\u001b[1;37m         ^\u001b[0m\n\u001b[1;31mSyntaxError\u001b[0m\u001b[1;31m:\u001b[0m invalid syntax\n"
     ]
    }
   ],
   "source": [
    "name lists=\"laxmi\",\"shukla\"\n",
    "name lists"
   ]
  },
  {
   "cell_type": "markdown",
   "id": "b91657ed",
   "metadata": {},
   "source": [
    "### Varibles names should not have space"
   ]
  },
  {
   "cell_type": "code",
   "execution_count": 7,
   "id": "4a8b5489",
   "metadata": {},
   "outputs": [
    {
     "ename": "SyntaxError",
     "evalue": "invalid decimal literal (1855224364.py, line 1)",
     "output_type": "error",
     "traceback": [
      "\u001b[1;36m  Cell \u001b[1;32mIn[7], line 1\u001b[1;36m\u001b[0m\n\u001b[1;33m    1name=\"laxmi\"\u001b[0m\n\u001b[1;37m    ^\u001b[0m\n\u001b[1;31mSyntaxError\u001b[0m\u001b[1;31m:\u001b[0m invalid decimal literal\n"
     ]
    }
   ],
   "source": [
    "1name=\"laxmi\"\n",
    "1name"
   ]
  },
  {
   "cell_type": "markdown",
   "id": "9eb8ad19",
   "metadata": {},
   "source": [
    "### Variable name should not start with number"
   ]
  },
  {
   "cell_type": "code",
   "execution_count": 8,
   "id": "0dde4bbc",
   "metadata": {},
   "outputs": [
    {
     "data": {
      "text/plain": [
       "'laxmi'"
      ]
     },
     "execution_count": 8,
     "metadata": {},
     "output_type": "execute_result"
    }
   ],
   "source": [
    "name1ok=\"laxmi\"\n",
    "name1ok"
   ]
  },
  {
   "cell_type": "code",
   "execution_count": 9,
   "id": "ac27a941",
   "metadata": {},
   "outputs": [
    {
     "data": {
      "text/plain": [
       "('Laxmi', 'Shukla')"
      ]
     },
     "execution_count": 9,
     "metadata": {},
     "output_type": "execute_result"
    }
   ],
   "source": [
    "name_lists=\"Laxmi\",\"Shukla\"\n",
    "name_lists"
   ]
  },
  {
   "cell_type": "code",
   "execution_count": 10,
   "id": "a27dccb2",
   "metadata": {},
   "outputs": [
    {
     "ename": "SyntaxError",
     "evalue": "cannot assign to expression here. Maybe you meant '==' instead of '='? (3873952968.py, line 1)",
     "output_type": "error",
     "traceback": [
      "\u001b[1;36m  Cell \u001b[1;32mIn[10], line 1\u001b[1;36m\u001b[0m\n\u001b[1;33m    name+lists=\"Laxmi\",\"Shukla\"\u001b[0m\n\u001b[1;37m    ^\u001b[0m\n\u001b[1;31mSyntaxError\u001b[0m\u001b[1;31m:\u001b[0m cannot assign to expression here. Maybe you meant '==' instead of '='?\n"
     ]
    }
   ],
   "source": [
    "name+lists=\"Laxmi\",\"Shukla\"\n",
    "name+lists"
   ]
  },
  {
   "cell_type": "markdown",
   "id": "2ba5b689",
   "metadata": {},
   "source": [
    "### only underscore is allowed in special character"
   ]
  },
  {
   "cell_type": "code",
   "execution_count": 11,
   "id": "3ea13aa2",
   "metadata": {},
   "outputs": [
    {
     "data": {
      "text/plain": [
       "'lux'"
      ]
     },
     "execution_count": 11,
     "metadata": {},
     "output_type": "execute_result"
    }
   ],
   "source": [
    "_name=\"lux\"\n",
    "_name"
   ]
  },
  {
   "cell_type": "markdown",
   "id": "baa18b2f",
   "metadata": {},
   "source": [
    "### variable names can start with A-Z,a-z,_"
   ]
  },
  {
   "cell_type": "markdown",
   "id": "f20e91c0",
   "metadata": {},
   "source": []
  },
  {
   "cell_type": "markdown",
   "id": "dd959f15",
   "metadata": {},
   "source": [
    "### Lists"
   ]
  },
  {
   "cell_type": "code",
   "execution_count": 12,
   "id": "65f446fd",
   "metadata": {},
   "outputs": [
    {
     "data": {
      "text/plain": [
       "[1, 2.3, -5, 'Laxmi']"
      ]
     },
     "execution_count": 12,
     "metadata": {},
     "output_type": "execute_result"
    }
   ],
   "source": [
    "list=[1,2.3,-5,\"Laxmi\"]\n",
    "list"
   ]
  },
  {
   "cell_type": "code",
   "execution_count": 13,
   "id": "0672706f",
   "metadata": {},
   "outputs": [
    {
     "data": {
      "text/plain": [
       "list"
      ]
     },
     "execution_count": 13,
     "metadata": {},
     "output_type": "execute_result"
    }
   ],
   "source": [
    "type(list)"
   ]
  },
  {
   "cell_type": "code",
   "execution_count": 14,
   "id": "e158643b",
   "metadata": {},
   "outputs": [
    {
     "data": {
      "text/plain": [
       "1"
      ]
     },
     "execution_count": 14,
     "metadata": {},
     "output_type": "execute_result"
    }
   ],
   "source": [
    "list[0]"
   ]
  },
  {
   "cell_type": "code",
   "execution_count": 15,
   "id": "dd05cc68",
   "metadata": {},
   "outputs": [
    {
     "data": {
      "text/plain": [
       "'Laxmi'"
      ]
     },
     "execution_count": 15,
     "metadata": {},
     "output_type": "execute_result"
    }
   ],
   "source": [
    "list[3]"
   ]
  },
  {
   "cell_type": "code",
   "execution_count": 16,
   "id": "e06502db",
   "metadata": {},
   "outputs": [
    {
     "ename": "IndexError",
     "evalue": "list index out of range",
     "output_type": "error",
     "traceback": [
      "\u001b[1;31m------------------------------------------------------------------\u001b[0m",
      "\u001b[1;31mIndexError\u001b[0m                       Traceback (most recent call last)",
      "Cell \u001b[1;32mIn[16], line 1\u001b[0m\n\u001b[1;32m----> 1\u001b[0m \u001b[38;5;28mlist\u001b[39m[\u001b[38;5;241m5\u001b[39m]\n",
      "\u001b[1;31mIndexError\u001b[0m: list index out of range"
     ]
    }
   ],
   "source": [
    "list[5]"
   ]
  },
  {
   "cell_type": "markdown",
   "id": "22377279",
   "metadata": {},
   "source": [
    "### list index should not be out of list"
   ]
  },
  {
   "cell_type": "code",
   "execution_count": 17,
   "id": "62e7cae7",
   "metadata": {},
   "outputs": [
    {
     "data": {
      "text/plain": [
       "'Laxmi'"
      ]
     },
     "execution_count": 17,
     "metadata": {},
     "output_type": "execute_result"
    }
   ],
   "source": [
    "list[-1]"
   ]
  },
  {
   "cell_type": "code",
   "execution_count": 18,
   "id": "55c4ba68",
   "metadata": {},
   "outputs": [
    {
     "data": {
      "text/plain": [
       "2.3"
      ]
     },
     "execution_count": 18,
     "metadata": {},
     "output_type": "execute_result"
    }
   ],
   "source": [
    "list[-3]"
   ]
  },
  {
   "cell_type": "code",
   "execution_count": 19,
   "id": "30fb96a7",
   "metadata": {},
   "outputs": [
    {
     "data": {
      "text/plain": [
       "1"
      ]
     },
     "execution_count": 19,
     "metadata": {},
     "output_type": "execute_result"
    }
   ],
   "source": [
    "list[-4]"
   ]
  },
  {
   "cell_type": "code",
   "execution_count": 20,
   "id": "17c3757e",
   "metadata": {},
   "outputs": [
    {
     "ename": "IndexError",
     "evalue": "list index out of range",
     "output_type": "error",
     "traceback": [
      "\u001b[1;31m------------------------------------------------------------------\u001b[0m",
      "\u001b[1;31mIndexError\u001b[0m                       Traceback (most recent call last)",
      "Cell \u001b[1;32mIn[20], line 1\u001b[0m\n\u001b[1;32m----> 1\u001b[0m \u001b[38;5;28mlist\u001b[39m[\u001b[38;5;241m-\u001b[39m\u001b[38;5;241m5\u001b[39m]\n",
      "\u001b[1;31mIndexError\u001b[0m: list index out of range"
     ]
    }
   ],
   "source": [
    "list[-5]"
   ]
  },
  {
   "cell_type": "markdown",
   "id": "99c9f6df",
   "metadata": {},
   "source": [
    "### index is out of range"
   ]
  },
  {
   "cell_type": "code",
   "execution_count": 21,
   "id": "8df8fd95",
   "metadata": {},
   "outputs": [
    {
     "data": {
      "text/plain": [
       "[1, 2.3, 'Hello', 'Laxmi']"
      ]
     },
     "execution_count": 21,
     "metadata": {},
     "output_type": "execute_result"
    }
   ],
   "source": [
    "list[2]=\"Hello\"\n",
    "list"
   ]
  },
  {
   "cell_type": "markdown",
   "id": "68c29ae3",
   "metadata": {},
   "source": [
    "### list is mutable(we can change the list elements)"
   ]
  },
  {
   "cell_type": "markdown",
   "id": "5edcba28",
   "metadata": {},
   "source": [
    "### list has multiple datatypes"
   ]
  },
  {
   "cell_type": "markdown",
   "id": "564b12ac",
   "metadata": {},
   "source": [
    "### list items should store in square brackets"
   ]
  },
  {
   "cell_type": "markdown",
   "id": "56864c2f",
   "metadata": {},
   "source": [
    "### list items retrived through indexing from 0 to range and from -1 to range"
   ]
  },
  {
   "cell_type": "markdown",
   "id": "56ceb1a7",
   "metadata": {},
   "source": [
    "### Tuples in python"
   ]
  },
  {
   "cell_type": "code",
   "execution_count": 22,
   "id": "53be93fc",
   "metadata": {},
   "outputs": [
    {
     "data": {
      "text/plain": [
       "(1, 2, 4, 5, 7)"
      ]
     },
     "execution_count": 22,
     "metadata": {},
     "output_type": "execute_result"
    }
   ],
   "source": [
    "tuple=(1,2,4,5,7)\n",
    "tuple"
   ]
  },
  {
   "cell_type": "code",
   "execution_count": 23,
   "id": "f823cabc",
   "metadata": {},
   "outputs": [
    {
     "data": {
      "text/plain": [
       "tuple"
      ]
     },
     "execution_count": 23,
     "metadata": {},
     "output_type": "execute_result"
    }
   ],
   "source": [
    "type(tuple)"
   ]
  },
  {
   "cell_type": "code",
   "execution_count": 24,
   "id": "d451a0d7",
   "metadata": {},
   "outputs": [
    {
     "data": {
      "text/plain": [
       "5"
      ]
     },
     "execution_count": 24,
     "metadata": {},
     "output_type": "execute_result"
    }
   ],
   "source": [
    "tuple[3]"
   ]
  },
  {
   "cell_type": "code",
   "execution_count": 25,
   "id": "467b282b",
   "metadata": {},
   "outputs": [
    {
     "ename": "TypeError",
     "evalue": "'tuple' object does not support item assignment",
     "output_type": "error",
     "traceback": [
      "\u001b[1;31m------------------------------------------------------------------\u001b[0m",
      "\u001b[1;31mTypeError\u001b[0m                        Traceback (most recent call last)",
      "Cell \u001b[1;32mIn[25], line 1\u001b[0m\n\u001b[1;32m----> 1\u001b[0m \u001b[38;5;28mtuple\u001b[39m[\u001b[38;5;241m2\u001b[39m]\u001b[38;5;241m=\u001b[39m\u001b[38;5;241m200\u001b[39m\n",
      "\u001b[1;31mTypeError\u001b[0m: 'tuple' object does not support item assignment"
     ]
    }
   ],
   "source": [
    "tuple[2]=200"
   ]
  },
  {
   "cell_type": "markdown",
   "id": "7a211de9",
   "metadata": {},
   "source": [
    "### tuple is immutable (we cannot change the elements of tuple)"
   ]
  },
  {
   "cell_type": "markdown",
   "id": "e70100d4",
   "metadata": {},
   "source": [
    "### tuples elements are stored in closed brackets or without brackets"
   ]
  },
  {
   "cell_type": "markdown",
   "id": "be16d653",
   "metadata": {},
   "source": [
    "### Dictonary in python"
   ]
  },
  {
   "cell_type": "code",
   "execution_count": 26,
   "id": "a01955fa",
   "metadata": {},
   "outputs": [
    {
     "data": {
      "text/plain": [
       "dict"
      ]
     },
     "execution_count": 26,
     "metadata": {},
     "output_type": "execute_result"
    }
   ],
   "source": [
    "dict={'name':\"Laxmi\",\"hobbies\":[\"Singing\",\"Poetry\"],10:60.4}\n",
    "type(dict)"
   ]
  },
  {
   "cell_type": "code",
   "execution_count": 27,
   "id": "a05a1cc2",
   "metadata": {},
   "outputs": [
    {
     "data": {
      "text/plain": [
       "{'name': 'Laxmi', 'hobbies': ['Singing', 'Poetry'], 10: 60.4}"
      ]
     },
     "execution_count": 27,
     "metadata": {},
     "output_type": "execute_result"
    }
   ],
   "source": [
    "dict"
   ]
  },
  {
   "cell_type": "code",
   "execution_count": 28,
   "id": "6ed9bbcb",
   "metadata": {},
   "outputs": [
    {
     "data": {
      "text/plain": [
       "dict_keys(['name', 'hobbies', 10])"
      ]
     },
     "execution_count": 28,
     "metadata": {},
     "output_type": "execute_result"
    }
   ],
   "source": [
    "dict.keys()"
   ]
  },
  {
   "cell_type": "code",
   "execution_count": 29,
   "id": "c6014c85",
   "metadata": {},
   "outputs": [
    {
     "data": {
      "text/plain": [
       "dict_values(['Laxmi', ['Singing', 'Poetry'], 60.4])"
      ]
     },
     "execution_count": 29,
     "metadata": {},
     "output_type": "execute_result"
    }
   ],
   "source": [
    "dict.values()"
   ]
  },
  {
   "cell_type": "code",
   "execution_count": 30,
   "id": "416e1f08",
   "metadata": {},
   "outputs": [
    {
     "data": {
      "text/plain": [
       "['Singing', 'Poetry']"
      ]
     },
     "execution_count": 30,
     "metadata": {},
     "output_type": "execute_result"
    }
   ],
   "source": [
    "dict['hobbies']"
   ]
  },
  {
   "cell_type": "code",
   "execution_count": 31,
   "id": "f6b2b3a5",
   "metadata": {},
   "outputs": [
    {
     "data": {
      "text/plain": [
       "'Laxmi'"
      ]
     },
     "execution_count": 31,
     "metadata": {},
     "output_type": "execute_result"
    }
   ],
   "source": [
    "dict['name']"
   ]
  },
  {
   "cell_type": "code",
   "execution_count": 32,
   "id": "8fa2c10d",
   "metadata": {},
   "outputs": [
    {
     "data": {
      "text/plain": [
       "60.4"
      ]
     },
     "execution_count": 32,
     "metadata": {},
     "output_type": "execute_result"
    }
   ],
   "source": [
    "dict[10]"
   ]
  },
  {
   "cell_type": "code",
   "execution_count": 33,
   "id": "33ebcbe3",
   "metadata": {},
   "outputs": [
    {
     "data": {
      "text/plain": [
       "{'name': 'Laxmi',\n",
       " 'hobbies': ['Singing', 'Poetry'],\n",
       " 10: 60.4,\n",
       " 'courses': 'python'}"
      ]
     },
     "execution_count": 33,
     "metadata": {},
     "output_type": "execute_result"
    }
   ],
   "source": [
    "dict[\"courses\"]=\"python\"\n",
    "dict"
   ]
  },
  {
   "cell_type": "markdown",
   "id": "26cf6786",
   "metadata": {},
   "source": [
    "### Dictonary is mutable\n",
    "### Dictonary stored data in key-value pair\n",
    "### We retrive values using index"
   ]
  },
  {
   "cell_type": "markdown",
   "id": "3e0a851c",
   "metadata": {},
   "source": [
    "### elements are stored in curly braces {}"
   ]
  },
  {
   "cell_type": "code",
   "execution_count": null,
   "id": "fda3af88",
   "metadata": {},
   "outputs": [],
   "source": []
  }
 ],
 "metadata": {
  "kernelspec": {
   "display_name": "Python 3 (ipykernel)",
   "language": "python",
   "name": "python3"
  },
  "language_info": {
   "codemirror_mode": {
    "name": "ipython",
    "version": 3
   },
   "file_extension": ".py",
   "mimetype": "text/x-python",
   "name": "python",
   "nbconvert_exporter": "python",
   "pygments_lexer": "ipython3",
   "version": "3.11.5"
  }
 },
 "nbformat": 4,
 "nbformat_minor": 5
}
