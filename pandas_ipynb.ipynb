{
 "cells": [
  {
   "cell_type": "markdown",
   "id": "2f6eb015",
   "metadata": {},
   "source": [
    "### Pandas\n",
    "### Pandas dataframes and indexing"
   ]
  },
  {
   "cell_type": "code",
   "execution_count": 1,
   "id": "7921e90a",
   "metadata": {},
   "outputs": [],
   "source": [
    "import pandas as pd\n",
    "import numpy as np"
   ]
  },
  {
   "cell_type": "code",
   "execution_count": 4,
   "id": "b2d21faa",
   "metadata": {},
   "outputs": [
    {
     "data": {
      "text/plain": [
       "cricket    1\n",
       "fball      2\n",
       "bball      3\n",
       "golf       4\n",
       "dtype: int64"
      ]
     },
     "execution_count": 4,
     "metadata": {},
     "output_type": "execute_result"
    }
   ],
   "source": [
    "sports1=pd.Series([1,2,3,4],index=['cricket','fball','bball','golf'])\n",
    "sports1"
   ]
  },
  {
   "cell_type": "code",
   "execution_count": 5,
   "id": "5e188443",
   "metadata": {},
   "outputs": [
    {
     "data": {
      "text/plain": [
       "4"
      ]
     },
     "execution_count": 5,
     "metadata": {},
     "output_type": "execute_result"
    }
   ],
   "source": [
    "sports1['golf']"
   ]
  },
  {
   "cell_type": "code",
   "execution_count": 6,
   "id": "1119b38d",
   "metadata": {},
   "outputs": [
    {
     "data": {
      "text/plain": [
       "chess          1\n",
       "ludo           2\n",
       "carom          3\n",
       "video games    4\n",
       "dtype: int64"
      ]
     },
     "execution_count": 6,
     "metadata": {},
     "output_type": "execute_result"
    }
   ],
   "source": [
    "sports2=pd.Series([1,2,3,4],index=['chess','ludo','carom','video games'])\n",
    "sports2"
   ]
  },
  {
   "cell_type": "code",
   "execution_count": 7,
   "id": "8b4153b0",
   "metadata": {},
   "outputs": [
    {
     "data": {
      "text/plain": [
       "bball         NaN\n",
       "carom         NaN\n",
       "chess         NaN\n",
       "cricket       NaN\n",
       "fball         NaN\n",
       "golf          NaN\n",
       "ludo          NaN\n",
       "video games   NaN\n",
       "dtype: float64"
      ]
     },
     "execution_count": 7,
     "metadata": {},
     "output_type": "execute_result"
    }
   ],
   "source": [
    "sports1+sports2"
   ]
  },
  {
   "cell_type": "code",
   "execution_count": 8,
   "id": "de50241d",
   "metadata": {},
   "outputs": [
    {
     "data": {
      "text/plain": [
       "bball         NaN\n",
       "carom         NaN\n",
       "chess         NaN\n",
       "cricket       NaN\n",
       "fball         NaN\n",
       "golf          NaN\n",
       "ludo          NaN\n",
       "video games   NaN\n",
       "dtype: float64"
      ]
     },
     "execution_count": 8,
     "metadata": {},
     "output_type": "execute_result"
    }
   ],
   "source": [
    "sports3=pd.Series([1,2,3,4],index=['cricket','fball','carom','ludo'])\n",
    "sports1+sports2+sports3"
   ]
  },
  {
   "cell_type": "code",
   "execution_count": 9,
   "id": "52bd05eb",
   "metadata": {},
   "outputs": [
    {
     "data": {
      "text/plain": [
       "bball      NaN\n",
       "carom      NaN\n",
       "cricket    2.0\n",
       "fball      4.0\n",
       "golf       NaN\n",
       "ludo       NaN\n",
       "dtype: float64"
      ]
     },
     "execution_count": 9,
     "metadata": {},
     "output_type": "execute_result"
    }
   ],
   "source": [
    "sports1+sports3"
   ]
  },
  {
   "cell_type": "code",
   "execution_count": 10,
   "id": "1bd98d27",
   "metadata": {},
   "outputs": [
    {
     "data": {
      "text/html": [
       "<div>\n",
       "<style scoped>\n",
       "    .dataframe tbody tr th:only-of-type {\n",
       "        vertical-align: middle;\n",
       "    }\n",
       "\n",
       "    .dataframe tbody tr th {\n",
       "        vertical-align: top;\n",
       "    }\n",
       "\n",
       "    .dataframe thead th {\n",
       "        text-align: right;\n",
       "    }\n",
       "</style>\n",
       "<table border=\"1\" class=\"dataframe\">\n",
       "  <thead>\n",
       "    <tr style=\"text-align: right;\">\n",
       "      <th></th>\n",
       "      <th>Score1</th>\n",
       "      <th>Score2</th>\n",
       "      <th>Score3</th>\n",
       "      <th>Score4</th>\n",
       "      <th>Score5</th>\n",
       "    </tr>\n",
       "  </thead>\n",
       "  <tbody>\n",
       "    <tr>\n",
       "      <th>A</th>\n",
       "      <td>0.727729</td>\n",
       "      <td>0.488839</td>\n",
       "      <td>0.689385</td>\n",
       "      <td>0.510238</td>\n",
       "      <td>0.306387</td>\n",
       "    </tr>\n",
       "    <tr>\n",
       "      <th>B</th>\n",
       "      <td>0.626313</td>\n",
       "      <td>0.049558</td>\n",
       "      <td>0.431182</td>\n",
       "      <td>0.348823</td>\n",
       "      <td>0.695574</td>\n",
       "    </tr>\n",
       "    <tr>\n",
       "      <th>C</th>\n",
       "      <td>0.729800</td>\n",
       "      <td>0.691425</td>\n",
       "      <td>0.315588</td>\n",
       "      <td>0.127417</td>\n",
       "      <td>0.201819</td>\n",
       "    </tr>\n",
       "    <tr>\n",
       "      <th>D</th>\n",
       "      <td>0.428297</td>\n",
       "      <td>0.143026</td>\n",
       "      <td>0.185686</td>\n",
       "      <td>0.626542</td>\n",
       "      <td>0.661124</td>\n",
       "    </tr>\n",
       "    <tr>\n",
       "      <th>E</th>\n",
       "      <td>0.674000</td>\n",
       "      <td>0.106966</td>\n",
       "      <td>0.453612</td>\n",
       "      <td>0.572224</td>\n",
       "      <td>0.722197</td>\n",
       "    </tr>\n",
       "    <tr>\n",
       "      <th>F</th>\n",
       "      <td>0.358586</td>\n",
       "      <td>0.098137</td>\n",
       "      <td>0.219245</td>\n",
       "      <td>0.573539</td>\n",
       "      <td>0.186020</td>\n",
       "    </tr>\n",
       "    <tr>\n",
       "      <th>G</th>\n",
       "      <td>0.890420</td>\n",
       "      <td>0.380723</td>\n",
       "      <td>0.192746</td>\n",
       "      <td>0.954295</td>\n",
       "      <td>0.540601</td>\n",
       "    </tr>\n",
       "    <tr>\n",
       "      <th>H</th>\n",
       "      <td>0.367230</td>\n",
       "      <td>0.319288</td>\n",
       "      <td>0.831040</td>\n",
       "      <td>0.214026</td>\n",
       "      <td>0.605170</td>\n",
       "    </tr>\n",
       "  </tbody>\n",
       "</table>\n",
       "</div>"
      ],
      "text/plain": [
       "     Score1    Score2    Score3    Score4    Score5\n",
       "A  0.727729  0.488839  0.689385  0.510238  0.306387\n",
       "B  0.626313  0.049558  0.431182  0.348823  0.695574\n",
       "C  0.729800  0.691425  0.315588  0.127417  0.201819\n",
       "D  0.428297  0.143026  0.185686  0.626542  0.661124\n",
       "E  0.674000  0.106966  0.453612  0.572224  0.722197\n",
       "F  0.358586  0.098137  0.219245  0.573539  0.186020\n",
       "G  0.890420  0.380723  0.192746  0.954295  0.540601\n",
       "H  0.367230  0.319288  0.831040  0.214026  0.605170"
      ]
     },
     "execution_count": 10,
     "metadata": {},
     "output_type": "execute_result"
    }
   ],
   "source": [
    "df1=pd.DataFrame(np.random.rand(8,5),index='A B C D E F G H'.split(),columns='Score1 Score2 Score3 Score4 Score5'.split())\n",
    "df1"
   ]
  },
  {
   "cell_type": "code",
   "execution_count": 12,
   "id": "26fa837c",
   "metadata": {},
   "outputs": [
    {
     "data": {
      "text/plain": [
       "A    0.727729\n",
       "B    0.626313\n",
       "C    0.729800\n",
       "D    0.428297\n",
       "E    0.674000\n",
       "F    0.358586\n",
       "G    0.890420\n",
       "H    0.367230\n",
       "Name: Score1, dtype: float64"
      ]
     },
     "execution_count": 12,
     "metadata": {},
     "output_type": "execute_result"
    }
   ],
   "source": [
    "df1['Score1']"
   ]
  },
  {
   "cell_type": "code",
   "execution_count": 16,
   "id": "9a159407",
   "metadata": {},
   "outputs": [
    {
     "data": {
      "text/html": [
       "<div>\n",
       "<style scoped>\n",
       "    .dataframe tbody tr th:only-of-type {\n",
       "        vertical-align: middle;\n",
       "    }\n",
       "\n",
       "    .dataframe tbody tr th {\n",
       "        vertical-align: top;\n",
       "    }\n",
       "\n",
       "    .dataframe thead th {\n",
       "        text-align: right;\n",
       "    }\n",
       "</style>\n",
       "<table border=\"1\" class=\"dataframe\">\n",
       "  <thead>\n",
       "    <tr style=\"text-align: right;\">\n",
       "      <th></th>\n",
       "      <th>Score1</th>\n",
       "      <th>Score2</th>\n",
       "      <th>Score3</th>\n",
       "    </tr>\n",
       "  </thead>\n",
       "  <tbody>\n",
       "    <tr>\n",
       "      <th>A</th>\n",
       "      <td>0.727729</td>\n",
       "      <td>0.488839</td>\n",
       "      <td>0.689385</td>\n",
       "    </tr>\n",
       "    <tr>\n",
       "      <th>B</th>\n",
       "      <td>0.626313</td>\n",
       "      <td>0.049558</td>\n",
       "      <td>0.431182</td>\n",
       "    </tr>\n",
       "    <tr>\n",
       "      <th>C</th>\n",
       "      <td>0.729800</td>\n",
       "      <td>0.691425</td>\n",
       "      <td>0.315588</td>\n",
       "    </tr>\n",
       "    <tr>\n",
       "      <th>D</th>\n",
       "      <td>0.428297</td>\n",
       "      <td>0.143026</td>\n",
       "      <td>0.185686</td>\n",
       "    </tr>\n",
       "    <tr>\n",
       "      <th>E</th>\n",
       "      <td>0.674000</td>\n",
       "      <td>0.106966</td>\n",
       "      <td>0.453612</td>\n",
       "    </tr>\n",
       "    <tr>\n",
       "      <th>F</th>\n",
       "      <td>0.358586</td>\n",
       "      <td>0.098137</td>\n",
       "      <td>0.219245</td>\n",
       "    </tr>\n",
       "    <tr>\n",
       "      <th>G</th>\n",
       "      <td>0.890420</td>\n",
       "      <td>0.380723</td>\n",
       "      <td>0.192746</td>\n",
       "    </tr>\n",
       "    <tr>\n",
       "      <th>H</th>\n",
       "      <td>0.367230</td>\n",
       "      <td>0.319288</td>\n",
       "      <td>0.831040</td>\n",
       "    </tr>\n",
       "  </tbody>\n",
       "</table>\n",
       "</div>"
      ],
      "text/plain": [
       "     Score1    Score2    Score3\n",
       "A  0.727729  0.488839  0.689385\n",
       "B  0.626313  0.049558  0.431182\n",
       "C  0.729800  0.691425  0.315588\n",
       "D  0.428297  0.143026  0.185686\n",
       "E  0.674000  0.106966  0.453612\n",
       "F  0.358586  0.098137  0.219245\n",
       "G  0.890420  0.380723  0.192746\n",
       "H  0.367230  0.319288  0.831040"
      ]
     },
     "execution_count": 16,
     "metadata": {},
     "output_type": "execute_result"
    }
   ],
   "source": [
    "df1[['Score1','Score2','Score3']]"
   ]
  },
  {
   "cell_type": "code",
   "execution_count": 17,
   "id": "2e097231",
   "metadata": {},
   "outputs": [
    {
     "data": {
      "text/html": [
       "<div>\n",
       "<style scoped>\n",
       "    .dataframe tbody tr th:only-of-type {\n",
       "        vertical-align: middle;\n",
       "    }\n",
       "\n",
       "    .dataframe tbody tr th {\n",
       "        vertical-align: top;\n",
       "    }\n",
       "\n",
       "    .dataframe thead th {\n",
       "        text-align: right;\n",
       "    }\n",
       "</style>\n",
       "<table border=\"1\" class=\"dataframe\">\n",
       "  <thead>\n",
       "    <tr style=\"text-align: right;\">\n",
       "      <th></th>\n",
       "      <th>Score1</th>\n",
       "      <th>Score2</th>\n",
       "      <th>Score3</th>\n",
       "      <th>Score4</th>\n",
       "      <th>Score5</th>\n",
       "      <th>Score6</th>\n",
       "    </tr>\n",
       "  </thead>\n",
       "  <tbody>\n",
       "    <tr>\n",
       "      <th>A</th>\n",
       "      <td>0.727729</td>\n",
       "      <td>0.488839</td>\n",
       "      <td>0.689385</td>\n",
       "      <td>0.510238</td>\n",
       "      <td>0.306387</td>\n",
       "      <td>1.216568</td>\n",
       "    </tr>\n",
       "    <tr>\n",
       "      <th>B</th>\n",
       "      <td>0.626313</td>\n",
       "      <td>0.049558</td>\n",
       "      <td>0.431182</td>\n",
       "      <td>0.348823</td>\n",
       "      <td>0.695574</td>\n",
       "      <td>0.675871</td>\n",
       "    </tr>\n",
       "    <tr>\n",
       "      <th>C</th>\n",
       "      <td>0.729800</td>\n",
       "      <td>0.691425</td>\n",
       "      <td>0.315588</td>\n",
       "      <td>0.127417</td>\n",
       "      <td>0.201819</td>\n",
       "      <td>1.421224</td>\n",
       "    </tr>\n",
       "    <tr>\n",
       "      <th>D</th>\n",
       "      <td>0.428297</td>\n",
       "      <td>0.143026</td>\n",
       "      <td>0.185686</td>\n",
       "      <td>0.626542</td>\n",
       "      <td>0.661124</td>\n",
       "      <td>0.571323</td>\n",
       "    </tr>\n",
       "    <tr>\n",
       "      <th>E</th>\n",
       "      <td>0.674000</td>\n",
       "      <td>0.106966</td>\n",
       "      <td>0.453612</td>\n",
       "      <td>0.572224</td>\n",
       "      <td>0.722197</td>\n",
       "      <td>0.780966</td>\n",
       "    </tr>\n",
       "    <tr>\n",
       "      <th>F</th>\n",
       "      <td>0.358586</td>\n",
       "      <td>0.098137</td>\n",
       "      <td>0.219245</td>\n",
       "      <td>0.573539</td>\n",
       "      <td>0.186020</td>\n",
       "      <td>0.456723</td>\n",
       "    </tr>\n",
       "    <tr>\n",
       "      <th>G</th>\n",
       "      <td>0.890420</td>\n",
       "      <td>0.380723</td>\n",
       "      <td>0.192746</td>\n",
       "      <td>0.954295</td>\n",
       "      <td>0.540601</td>\n",
       "      <td>1.271143</td>\n",
       "    </tr>\n",
       "    <tr>\n",
       "      <th>H</th>\n",
       "      <td>0.367230</td>\n",
       "      <td>0.319288</td>\n",
       "      <td>0.831040</td>\n",
       "      <td>0.214026</td>\n",
       "      <td>0.605170</td>\n",
       "      <td>0.686517</td>\n",
       "    </tr>\n",
       "  </tbody>\n",
       "</table>\n",
       "</div>"
      ],
      "text/plain": [
       "     Score1    Score2    Score3    Score4    Score5    Score6\n",
       "A  0.727729  0.488839  0.689385  0.510238  0.306387  1.216568\n",
       "B  0.626313  0.049558  0.431182  0.348823  0.695574  0.675871\n",
       "C  0.729800  0.691425  0.315588  0.127417  0.201819  1.421224\n",
       "D  0.428297  0.143026  0.185686  0.626542  0.661124  0.571323\n",
       "E  0.674000  0.106966  0.453612  0.572224  0.722197  0.780966\n",
       "F  0.358586  0.098137  0.219245  0.573539  0.186020  0.456723\n",
       "G  0.890420  0.380723  0.192746  0.954295  0.540601  1.271143\n",
       "H  0.367230  0.319288  0.831040  0.214026  0.605170  0.686517"
      ]
     },
     "execution_count": 17,
     "metadata": {},
     "output_type": "execute_result"
    }
   ],
   "source": [
    "df1['Score6']=df1['Score1']+df1['Score2']\n",
    "df1"
   ]
  },
  {
   "cell_type": "code",
   "execution_count": 18,
   "id": "838f2133",
   "metadata": {},
   "outputs": [
    {
     "data": {
      "text/html": [
       "<div>\n",
       "<style scoped>\n",
       "    .dataframe tbody tr th:only-of-type {\n",
       "        vertical-align: middle;\n",
       "    }\n",
       "\n",
       "    .dataframe tbody tr th {\n",
       "        vertical-align: top;\n",
       "    }\n",
       "\n",
       "    .dataframe thead th {\n",
       "        text-align: right;\n",
       "    }\n",
       "</style>\n",
       "<table border=\"1\" class=\"dataframe\">\n",
       "  <thead>\n",
       "    <tr style=\"text-align: right;\">\n",
       "      <th></th>\n",
       "      <th>ID</th>\n",
       "      <th>Name</th>\n",
       "      <th>Profit</th>\n",
       "    </tr>\n",
       "  </thead>\n",
       "  <tbody>\n",
       "    <tr>\n",
       "      <th>0</th>\n",
       "      <td>101</td>\n",
       "      <td>Laxmi</td>\n",
       "      <td>20</td>\n",
       "    </tr>\n",
       "    <tr>\n",
       "      <th>1</th>\n",
       "      <td>102</td>\n",
       "      <td>Akansha</td>\n",
       "      <td>34</td>\n",
       "    </tr>\n",
       "    <tr>\n",
       "      <th>2</th>\n",
       "      <td>103</td>\n",
       "      <td>Ayush</td>\n",
       "      <td>56</td>\n",
       "    </tr>\n",
       "    <tr>\n",
       "      <th>3</th>\n",
       "      <td>104</td>\n",
       "      <td>Sachin</td>\n",
       "      <td>78</td>\n",
       "    </tr>\n",
       "    <tr>\n",
       "      <th>4</th>\n",
       "      <td>105</td>\n",
       "      <td>Mahek</td>\n",
       "      <td>90</td>\n",
       "    </tr>\n",
       "  </tbody>\n",
       "</table>\n",
       "</div>"
      ],
      "text/plain": [
       "    ID     Name  Profit\n",
       "0  101    Laxmi      20\n",
       "1  102  Akansha      34\n",
       "2  103    Ayush      56\n",
       "3  104   Sachin      78\n",
       "4  105    Mahek      90"
      ]
     },
     "execution_count": 18,
     "metadata": {},
     "output_type": "execute_result"
    }
   ],
   "source": [
    "df2={'ID':['101','102','103','104','105'],'Name':[\"Laxmi\",\"Akansha\",\"Ayush\",\"Sachin\",\"Mahek\"],'Profit':[20,34,56,78,90]}\n",
    "df=pd.DataFrame(df2)\n",
    "df"
   ]
  },
  {
   "cell_type": "code",
   "execution_count": 19,
   "id": "a2a359df",
   "metadata": {},
   "outputs": [
    {
     "data": {
      "text/plain": [
       "0    101\n",
       "1    102\n",
       "2    103\n",
       "3    104\n",
       "4    105\n",
       "Name: ID, dtype: object"
      ]
     },
     "execution_count": 19,
     "metadata": {},
     "output_type": "execute_result"
    }
   ],
   "source": [
    "df[\"ID\"]"
   ]
  },
  {
   "cell_type": "code",
   "execution_count": 20,
   "id": "fdc0819f",
   "metadata": {},
   "outputs": [
    {
     "data": {
      "text/html": [
       "<div>\n",
       "<style scoped>\n",
       "    .dataframe tbody tr th:only-of-type {\n",
       "        vertical-align: middle;\n",
       "    }\n",
       "\n",
       "    .dataframe tbody tr th {\n",
       "        vertical-align: top;\n",
       "    }\n",
       "\n",
       "    .dataframe thead th {\n",
       "        text-align: right;\n",
       "    }\n",
       "</style>\n",
       "<table border=\"1\" class=\"dataframe\">\n",
       "  <thead>\n",
       "    <tr style=\"text-align: right;\">\n",
       "      <th></th>\n",
       "      <th>ID</th>\n",
       "      <th>Name</th>\n",
       "    </tr>\n",
       "  </thead>\n",
       "  <tbody>\n",
       "    <tr>\n",
       "      <th>0</th>\n",
       "      <td>101</td>\n",
       "      <td>Laxmi</td>\n",
       "    </tr>\n",
       "    <tr>\n",
       "      <th>1</th>\n",
       "      <td>102</td>\n",
       "      <td>Akansha</td>\n",
       "    </tr>\n",
       "    <tr>\n",
       "      <th>2</th>\n",
       "      <td>103</td>\n",
       "      <td>Ayush</td>\n",
       "    </tr>\n",
       "    <tr>\n",
       "      <th>3</th>\n",
       "      <td>104</td>\n",
       "      <td>Sachin</td>\n",
       "    </tr>\n",
       "    <tr>\n",
       "      <th>4</th>\n",
       "      <td>105</td>\n",
       "      <td>Mahek</td>\n",
       "    </tr>\n",
       "  </tbody>\n",
       "</table>\n",
       "</div>"
      ],
      "text/plain": [
       "    ID     Name\n",
       "0  101    Laxmi\n",
       "1  102  Akansha\n",
       "2  103    Ayush\n",
       "3  104   Sachin\n",
       "4  105    Mahek"
      ]
     },
     "execution_count": 20,
     "metadata": {},
     "output_type": "execute_result"
    }
   ],
   "source": [
    "df[[\"ID\",\"Name\"]]"
   ]
  },
  {
   "cell_type": "code",
   "execution_count": 24,
   "id": "0089e4d3",
   "metadata": {},
   "outputs": [
    {
     "data": {
      "text/html": [
       "<div>\n",
       "<style scoped>\n",
       "    .dataframe tbody tr th:only-of-type {\n",
       "        vertical-align: middle;\n",
       "    }\n",
       "\n",
       "    .dataframe tbody tr th {\n",
       "        vertical-align: top;\n",
       "    }\n",
       "\n",
       "    .dataframe thead th {\n",
       "        text-align: right;\n",
       "    }\n",
       "</style>\n",
       "<table border=\"1\" class=\"dataframe\">\n",
       "  <thead>\n",
       "    <tr style=\"text-align: right;\">\n",
       "      <th></th>\n",
       "      <th>Name</th>\n",
       "      <th>Profit</th>\n",
       "    </tr>\n",
       "  </thead>\n",
       "  <tbody>\n",
       "    <tr>\n",
       "      <th>0</th>\n",
       "      <td>Laxmi</td>\n",
       "      <td>20</td>\n",
       "    </tr>\n",
       "    <tr>\n",
       "      <th>1</th>\n",
       "      <td>Akansha</td>\n",
       "      <td>34</td>\n",
       "    </tr>\n",
       "    <tr>\n",
       "      <th>2</th>\n",
       "      <td>Ayush</td>\n",
       "      <td>56</td>\n",
       "    </tr>\n",
       "    <tr>\n",
       "      <th>4</th>\n",
       "      <td>Mahek</td>\n",
       "      <td>90</td>\n",
       "    </tr>\n",
       "  </tbody>\n",
       "</table>\n",
       "</div>"
      ],
      "text/plain": [
       "      Name  Profit\n",
       "0    Laxmi      20\n",
       "1  Akansha      34\n",
       "2    Ayush      56\n",
       "4    Mahek      90"
      ]
     },
     "execution_count": 24,
     "metadata": {},
     "output_type": "execute_result"
    }
   ],
   "source": [
    "df.drop(3)"
   ]
  },
  {
   "cell_type": "code",
   "execution_count": 29,
   "id": "328b9580",
   "metadata": {},
   "outputs": [
    {
     "data": {
      "text/html": [
       "<div>\n",
       "<style scoped>\n",
       "    .dataframe tbody tr th:only-of-type {\n",
       "        vertical-align: middle;\n",
       "    }\n",
       "\n",
       "    .dataframe tbody tr th {\n",
       "        vertical-align: top;\n",
       "    }\n",
       "\n",
       "    .dataframe thead th {\n",
       "        text-align: right;\n",
       "    }\n",
       "</style>\n",
       "<table border=\"1\" class=\"dataframe\">\n",
       "  <thead>\n",
       "    <tr style=\"text-align: right;\">\n",
       "      <th></th>\n",
       "      <th>Name</th>\n",
       "      <th>Profit</th>\n",
       "    </tr>\n",
       "  </thead>\n",
       "  <tbody>\n",
       "    <tr>\n",
       "      <th>0</th>\n",
       "      <td>Laxmi</td>\n",
       "      <td>20</td>\n",
       "    </tr>\n",
       "    <tr>\n",
       "      <th>2</th>\n",
       "      <td>Ayush</td>\n",
       "      <td>56</td>\n",
       "    </tr>\n",
       "    <tr>\n",
       "      <th>3</th>\n",
       "      <td>Sachin</td>\n",
       "      <td>78</td>\n",
       "    </tr>\n",
       "    <tr>\n",
       "      <th>4</th>\n",
       "      <td>Mahek</td>\n",
       "      <td>90</td>\n",
       "    </tr>\n",
       "  </tbody>\n",
       "</table>\n",
       "</div>"
      ],
      "text/plain": [
       "     Name  Profit\n",
       "0   Laxmi      20\n",
       "2   Ayush      56\n",
       "3  Sachin      78\n",
       "4   Mahek      90"
      ]
     },
     "execution_count": 29,
     "metadata": {},
     "output_type": "execute_result"
    }
   ],
   "source": [
    "df.drop(1)"
   ]
  },
  {
   "cell_type": "code",
   "execution_count": null,
   "id": "36f8d9c1",
   "metadata": {},
   "outputs": [],
   "source": []
  }
 ],
 "metadata": {
  "kernelspec": {
   "display_name": "Python 3 (ipykernel)",
   "language": "python",
   "name": "python3"
  },
  "language_info": {
   "codemirror_mode": {
    "name": "ipython",
    "version": 3
   },
   "file_extension": ".py",
   "mimetype": "text/x-python",
   "name": "python",
   "nbconvert_exporter": "python",
   "pygments_lexer": "ipython3",
   "version": "3.11.5"
  }
 },
 "nbformat": 4,
 "nbformat_minor": 5
}
